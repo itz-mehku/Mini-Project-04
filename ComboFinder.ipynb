{
  "nbformat": 4,
  "nbformat_minor": 0,
  "metadata": {
    "colab": {
      "provenance": [],
      "authorship_tag": "ABX9TyPp/3k0xkCzMfzBi8Anq9p5",
      "include_colab_link": true
    },
    "kernelspec": {
      "name": "python3",
      "display_name": "Python 3"
    },
    "language_info": {
      "name": "python"
    }
  },
  "cells": [
    {
      "cell_type": "markdown",
      "metadata": {
        "id": "view-in-github",
        "colab_type": "text"
      },
      "source": [
        "<a href=\"https://colab.research.google.com/github/itz-mehku/Mini-Project-04/blob/main/ComboFinder.ipynb\" target=\"_parent\"><img src=\"https://colab.research.google.com/assets/colab-badge.svg\" alt=\"Open In Colab\"/></a>"
      ]
    },
    {
      "cell_type": "markdown",
      "source": [
        " ---\n",
        "# **Mini Project - 04 : Combo Finder**\n",
        "---\n",
        "![image](https://user-images.githubusercontent.com/7460892/173579493-d718c024-4844-4c30-afd5-71bd641a49d0.png)\n",
        "\n",
        "##**--> Problem Statement:**\n",
        "Find all the list of products whose sum-of-price is between 290 and 310.\n",
        "\n",
        "ProductList = {p1:10, p2:15, p3:20, p4:25, p5:30, p6:35, p7:50,\n",
        "               'p8':40, 'p9':55, 'p10':60, 'p11':65, 'p12':75, 'p13':70,\n",
        "               'p14':45}\n",
        "\n",
        "---"
      ],
      "metadata": {
        "id": "myXJvDaIIJ13"
      }
    },
    {
      "cell_type": "markdown",
      "source": [
        "**--> Solution :**"
      ],
      "metadata": {
        "id": "bywwkf-kJL_p"
      }
    },
    {
      "cell_type": "code",
      "source": [
        "import random as r\n",
        "\n",
        "ProductList = {'p1':10, 'p2':15, 'p3':20, 'p4':25, 'p5':30, 'p6':35, 'p7':50,\n",
        "               'p8':40, 'p9':55, 'p10':60, 'p11':65, 'p12':75, 'p13':70,\n",
        "               'p14':45}\n",
        "LB          = 290\n",
        "UB          = 310\n",
        "ResultList  = set()\n",
        "Iterations  = 1000\n",
        "\n",
        "for i in range(Iterations):\n",
        "\n",
        "    SetSize = r.randint(2, len(ProductList)-1)\n",
        "\n",
        "    ComboList = r.sample(list(ProductList.keys()),SetSize)\n",
        "    ComboList.sort()\n",
        "\n",
        "    ComboSum = sum([ ProductList[i] for i in ComboList])\n",
        "\n",
        "    if ComboSum>= LB and ComboSum<= UB:\n",
        "      ResultList.add(tuple(ComboList))\n",
        "\n",
        "for r in ResultList:\n",
        "\tprint (r)\n",
        "print (\"\\nTotal Sets: \", len(ResultList), \"\\n\")"
      ],
      "metadata": {
        "colab": {
          "base_uri": "https://localhost:8080/"
        },
        "id": "iXKPCUhPIbQt",
        "outputId": "77587725-75d2-43ba-c63b-7adffa9ee113"
      },
      "execution_count": null,
      "outputs": [
        {
          "output_type": "stream",
          "name": "stdout",
          "text": [
            "('p1', 'p11', 'p14', 'p4', 'p7', 'p8', 'p9')\n",
            "('p12', 'p13', 'p2', 'p3', 'p5', 'p8', 'p9')\n",
            "('p10', 'p12', 'p2', 'p3', 'p5', 'p6', 'p9')\n",
            "('p11', 'p13', 'p2', 'p3', 'p5', 'p7', 'p8')\n",
            "('p1', 'p10', 'p11', 'p12', 'p14', 'p8')\n",
            "('p1', 'p11', 'p12', 'p2', 'p3', 'p4', 'p8', 'p9')\n",
            "('p10', 'p13', 'p14', 'p4', 'p8', 'p9')\n",
            "('p1', 'p14', 'p2', 'p3', 'p5', 'p6', 'p7', 'p8', 'p9')\n",
            "('p1', 'p11', 'p12', 'p5', 'p6', 'p8', 'p9')\n",
            "('p10', 'p12', 'p2', 'p4', 'p6', 'p7', 'p8')\n",
            "('p1', 'p10', 'p11', 'p2', 'p4', 'p6', 'p7', 'p8')\n",
            "('p11', 'p12', 'p14', 'p6', 'p7', 'p8')\n",
            "('p10', 'p11', 'p3', 'p4', 'p5', 'p7', 'p9')\n",
            "('p1', 'p10', 'p12', 'p13', 'p4', 'p9')\n",
            "('p1', 'p10', 'p14', 'p2', 'p3', 'p4', 'p6', 'p7', 'p8')\n",
            "('p1', 'p10', 'p14', 'p3', 'p4', 'p6', 'p8', 'p9')\n",
            "('p1', 'p10', 'p12', 'p2', 'p4', 'p5', 'p7', 'p8')\n",
            "('p10', 'p11', 'p12', 'p3', 'p6', 'p8')\n",
            "('p10', 'p11', 'p4', 'p5', 'p6', 'p8', 'p9')\n",
            "('p1', 'p13', 'p14', 'p3', 'p4', 'p6', 'p8', 'p9')\n",
            "('p12', 'p13', 'p3', 'p4', 'p7', 'p9')\n",
            "('p1', 'p12', 'p14', 'p2', 'p5', 'p6', 'p7', 'p8')\n",
            "('p1', 'p11', 'p12', 'p14', 'p3', 'p6', 'p9')\n",
            "('p10', 'p11', 'p12', 'p13', 'p5')\n",
            "('p1', 'p11', 'p12', 'p14', 'p5', 'p6', 'p8')\n",
            "('p1', 'p10', 'p11', 'p14', 'p2', 'p3', 'p4', 'p5', 'p8')\n",
            "('p1', 'p13', 'p14', 'p2', 'p4', 'p5', 'p8', 'p9')\n",
            "('p12', 'p2', 'p3', 'p4', 'p5', 'p6', 'p7', 'p8')\n",
            "('p1', 'p11', 'p12', 'p2', 'p5', 'p7', 'p9')\n",
            "('p10', 'p14', 'p2', 'p5', 'p6', 'p7', 'p9')\n",
            "('p1', 'p12', 'p13', 'p14', 'p3', 'p4', 'p5', 'p6')\n",
            "('p1', 'p11', 'p14', 'p2', 'p3', 'p4', 'p5', 'p8', 'p9')\n",
            "('p10', 'p12', 'p14', 'p2', 'p7', 'p9')\n",
            "('p1', 'p10', 'p14', 'p3', 'p4', 'p5', 'p7', 'p9')\n",
            "('p10', 'p13', 'p6', 'p7', 'p8', 'p9')\n",
            "('p1', 'p11', 'p4', 'p5', 'p6', 'p7', 'p8', 'p9')\n",
            "('p1', 'p13', 'p14', 'p2', 'p4', 'p5', 'p7', 'p9')\n",
            "('p1', 'p10', 'p12', 'p3', 'p4', 'p5', 'p7', 'p8')\n",
            "('p10', 'p11', 'p6', 'p7', 'p8', 'p9')\n",
            "('p10', 'p11', 'p13', 'p14', 'p2', 'p6')\n",
            "('p1', 'p11', 'p12', 'p3', 'p4', 'p5', 'p6', 'p8')\n",
            "('p1', 'p10', 'p11', 'p13', 'p2', 'p3', 'p4', 'p8')\n",
            "('p1', 'p10', 'p11', 'p14', 'p2', 'p4', 'p6', 'p7')\n",
            "\n",
            "Total Sets:  43 \n",
            "\n"
          ]
        }
      ]
    },
    {
      "cell_type": "markdown",
      "source": [
        "---\n",
        "## ** **Assignment Completed** **\n",
        "---"
      ],
      "metadata": {
        "id": "ZNbs_ttpJq0Z"
      }
    }
  ]
}